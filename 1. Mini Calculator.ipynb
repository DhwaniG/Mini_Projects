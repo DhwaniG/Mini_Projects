{
 "cells": [
  {
   "cell_type": "code",
   "execution_count": 2,
   "id": "139d7967",
   "metadata": {},
   "outputs": [
    {
     "name": "stdout",
     "output_type": "stream",
     "text": [
      "***Mini Calculator***\n",
      "\n",
      "\n",
      "Enter the value for num1.:50\n",
      "Enter the value for num2.:50\n",
      "\n",
      " Option 1 for Addition\n",
      " Option 2 for Subtraction\n",
      " Option 3 for Multiplication\n",
      " Option 4 for Division\n",
      "\n",
      "\n",
      "Enter the option for operation (1-4).:1\n",
      "\n",
      "\n",
      "The Addition of 50 and 50 is 100.\n"
     ]
    }
   ],
   "source": [
    "print('***Mini Calculator***') ## --> Title\n",
    "print(\"\\n\")\n",
    "num1 = int(input('Enter the value for num1.:')) ## --> User input in int for numbers.\n",
    "num2 = int(input('Enter the value for num2.:'))\n",
    "\n",
    "## --> Options displayed for user to know which option to choose for desired operation. \n",
    "print('\\n Option 1 for Addition\\n Option 2 for Subtraction\\n Option 3 for Multiplication\\n Option 4 for Division') \n",
    "\n",
    "print('\\n') ## --> Next line to have a space in between. \n",
    "\n",
    "option = int(input('Enter the option for operation (1-4).:')) ## --> User input to select option. \n",
    "\n",
    "print('\\n')\n",
    "\n",
    "## if elif statement.\n",
    "if option == 1:\n",
    "    print(f\"The Addition of {num1} and {num2} is {num1+num2}.\")\n",
    "elif option == 2:\n",
    "    print(f\"The Subtraction of {num1} and {num2} is {num1-num2}\")\n",
    "elif option == 3:\n",
    "    print(f\"The Multiplication of {num1} and {num2} is {num1*num2}\")\n",
    "elif option == 4:\n",
    "    print(f\"The Division of {num1} and {num2} is {num1/num2}\")\n",
    "else:\n",
    "    print('Please select the appropriate operation option.')\n"
   ]
  },
  {
   "cell_type": "markdown",
   "id": "bb4128d2",
   "metadata": {},
   "source": [
    "#### In this project, I have created a mini calculator, which is giving addition, subtraction, multiplication and division. Here I have used Variable, conditional statement and operations."
   ]
  }
 ],
 "metadata": {
  "kernelspec": {
   "display_name": "Python 3 (ipykernel)",
   "language": "python",
   "name": "python3"
  },
  "language_info": {
   "codemirror_mode": {
    "name": "ipython",
    "version": 3
   },
   "file_extension": ".py",
   "mimetype": "text/x-python",
   "name": "python",
   "nbconvert_exporter": "python",
   "pygments_lexer": "ipython3",
   "version": "3.9.13"
  }
 },
 "nbformat": 4,
 "nbformat_minor": 5
}
