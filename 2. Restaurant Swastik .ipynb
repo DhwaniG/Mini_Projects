{
 "cells": [
  {
   "cell_type": "code",
   "execution_count": 4,
   "id": "d90c4dfd",
   "metadata": {},
   "outputs": [
    {
     "name": "stdout",
     "output_type": "stream",
     "text": [
      "\t\t\t****SWASTIK HOTEL****\n",
      "\t\t~~~~~Welcome To SWASTIK HOTEL~~~~~\n",
      "\t\t\t\tMenu\n",
      "1.Breakfast\n",
      "2.Lunch\n",
      "3.Dinner\n",
      "Please Enter Your Choice (1,2,3)2\n",
      "Welcome to Lunch Menu\n",
      "1.Dosa_____Rs.120\n",
      "2.Paratha______Rs.40\n",
      "Please Enter Your Choice (1,2)1\n",
      "You have selected Dosa.Enjoy\n",
      "Do you want to order again? (y/n)y\n",
      "Please Enter Your Choice (1,2,3)2\n",
      "Welcome to Lunch Menu\n",
      "1.Dosa_____Rs.120\n",
      "2.Paratha______Rs.40\n",
      "Please Enter Your Choice (1,2)2\n",
      "You have selected Paratha.Enjoy\n",
      "Do you want to order again? (y/n)n\n",
      "\n",
      "\n",
      "Your bill is  160\n",
      "Thanks for visting us.\n"
     ]
    }
   ],
   "source": [
    "# Hotel Project 1\n",
    "\n",
    "print(\"\\t\\t\\t****SWASTIK HOTEL****\")\n",
    "print(\"\\t\\t~~~~~Welcome To SWASTIK HOTEL~~~~~\")\n",
    "print(\"\\t\\t\\t\\tMenu\\n1.Breakfast\\n2.Lunch\\n3.Dinner\")\n",
    "\n",
    "option = \"y\"\n",
    "bal = 0\n",
    "while option == \"y\":\n",
    "    option1 = int(input(\"Please Enter Your Choice (1,2,3)\"))\n",
    "    if option1 == 1:\n",
    "        print(\"Welcome to Breakfast Menu\")\n",
    "        print(\"1.Chaai_____Rs.20\\n2. Maggi_____Rs.40\")\n",
    "        option2 = int(input(\"Please Enter Your Choice (1,2)\"))\n",
    "        if option2 == 1:\n",
    "            print(\"You have selected Chaai.Enjoy\")\n",
    "            bal+=20\n",
    "        elif option2 == 2:\n",
    "            print(\"You have selected Maggi.Enjoy\")\n",
    "            bal+=40\n",
    "        else:\n",
    "            print(\"Invalid Option\")\n",
    "        \n",
    "    if option1 == 2:\n",
    "        print(\"Welcome to Lunch Menu\")\n",
    "        print(\"1.Dosa_____Rs.120\\n2.Paratha______Rs.40\")\n",
    "        option2 = int(input(\"Please Enter Your Choice (1,2)\"))\n",
    "        if option2 == 1:\n",
    "            print(\"You have selected Dosa.Enjoy\")\n",
    "            bal+=120\n",
    "        elif option2 == 2:\n",
    "            print(\"You have selected Paratha.Enjoy\")\n",
    "            bal+=40\n",
    "        else:\n",
    "            print(\"Invalid Option\")\n",
    "       \n",
    "    if option1 == 3:\n",
    "        print(\"Welcome to Dinner Menu\")\n",
    "        print(\"1.Pav bhaji_____Rs.120\\n2.Chilli Chiken_____Rs.240\")\n",
    "        option2 = int(input(\"Please Enter Your Choice (1,2)\"))\n",
    "        if option2 == 1:\n",
    "            print(\"You have selected Pav bhaji.Enjoy\")\n",
    "            bal+=120\n",
    "        elif option2 == 2:\n",
    "            print(\"You have selected Chilli Chiken.Enjoy\")\n",
    "            bal+=240\n",
    "        else:\n",
    "            print(\"Invalid Option\")\n",
    "    else:\n",
    "        option = input(\"Do you want to order again? (y/n)\")\n",
    "\n",
    "    \n",
    "print(\"\\n\")    \n",
    "print(\"Your bill is \",bal)\n",
    "print(\"Thanks for visting us.\")  "
   ]
  },
  {
   "cell_type": "markdown",
   "id": "1f4e2683",
   "metadata": {},
   "source": [
    "#### "
   ]
  },
  {
   "cell_type": "markdown",
   "id": "47ef9e1c",
   "metadata": {},
   "source": [
    "Explanation: This is a menu for a Hotel Swastik, which has three main option Breakfast, Lunch and Dinner. And customer can order anything with repetition also. After placing order this program will also calculate the Bill."
   ]
  }
 ],
 "metadata": {
  "kernelspec": {
   "display_name": "Python 3 (ipykernel)",
   "language": "python",
   "name": "python3"
  },
  "language_info": {
   "codemirror_mode": {
    "name": "ipython",
    "version": 3
   },
   "file_extension": ".py",
   "mimetype": "text/x-python",
   "name": "python",
   "nbconvert_exporter": "python",
   "pygments_lexer": "ipython3",
   "version": "3.9.13"
  }
 },
 "nbformat": 4,
 "nbformat_minor": 5
}
