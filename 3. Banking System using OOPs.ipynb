{
 "cells": [
  {
   "cell_type": "markdown",
   "id": "9f0d947c",
   "metadata": {},
   "source": [
    "## Banking System using OOPs\n",
    "\n",
    "###### 1. Parent class : User\n",
    "    1. Holds details about a user.\n",
    "    2. Has a function to show the user details. \n",
    "###### 2. child class : Bank\n",
    "    1. Store details about the account balance.\n",
    "    2. Stores details about the amount.\n",
    "    3. Allows for Deposit, withdraw and view balance."
   ]
  },
  {
   "cell_type": "code",
   "execution_count": 16,
   "id": "82bf395c",
   "metadata": {},
   "outputs": [],
   "source": [
    "class User:\n",
    "    def __init__(self,name,age,gender):\n",
    "        self.name = name\n",
    "        self.age = age\n",
    "        self.gender = gender\n",
    "        \n",
    "    def show_details(self):\n",
    "        print(\"User Details are as follows.:\")\n",
    "        print(\"Name:\",self.name)\n",
    "        print(\"Age:\",self.age)\n",
    "        print(\"Gender:\",self.gender)\n",
    "        \n",
    "class Bank(User):\n",
    "    def __init__(self,name,age,gender):\n",
    "        super().__init__(name,age,gender)\n",
    "        self.balance = 0\n",
    "        \n",
    "    def deposit(self,amount):\n",
    "        self.amount = amount\n",
    "        self.balance = self.balance + self.amount\n",
    "        print(\"Account balance has been updated :\",self.balance)\n",
    "        \n",
    "    def withdraw(self,amount):\n",
    "        self.amount = amount\n",
    "        if self.amount > self.balance:\n",
    "            print(\"Insufficient Funds | Balance Available :\",self.balance)\n",
    "        else:\n",
    "            self.balance = self.balance - self.amount\n",
    "            print(f\"withdrawal of {self.amount}.And Account balance has been updated :\",self.balance)\n",
    "            \n",
    "    def view_balance(self):\n",
    "        print(\"Account balance :\",self.balance)\n",
    "        "
   ]
  },
  {
   "cell_type": "code",
   "execution_count": 17,
   "id": "7c79bfae",
   "metadata": {},
   "outputs": [
    {
     "name": "stdout",
     "output_type": "stream",
     "text": [
      "User Details are as follows.:\n",
      "Name: Shiv\n",
      "Age: 27\n",
      "Gender: Male\n",
      "Account balance has been updated : 2000\n",
      "Account balance : 2000\n",
      "withdrawal of 200.And Account balance has been updated : 1800\n",
      "Account balance : 1800\n"
     ]
    }
   ],
   "source": [
    "b = Bank(\"Shiv\",27,\"Male\")\n",
    "b.show_details() #--> shows User Details.\n",
    "b.deposit(2000) #--> Deposit of 2000 in the account.\n",
    "b.view_balance() #--> shows current balance.\n",
    "b.withdraw(200) #--> withdrawal of 200 from the account.\n",
    "b.view_balance()  #--> shows current balance."
   ]
  },
  {
   "cell_type": "markdown",
   "id": "ab58dd9a",
   "metadata": {},
   "source": [
    "Explanation: In this Program, a Bank System is Made with the help of OOPs concept. There are two classes Parent class as user and child class as Bank.\n",
    "In Demo, initially, The User wants to show the Details and then a deposit has been done of 2000 rupees which is reflecting in the current balance as 2000. In addition to that, a withdrawal is done of 200 rupees which is reflecting in the current balance as 1800.\n"
   ]
  }
 ],
 "metadata": {
  "kernelspec": {
   "display_name": "Python 3 (ipykernel)",
   "language": "python",
   "name": "python3"
  },
  "language_info": {
   "codemirror_mode": {
    "name": "ipython",
    "version": 3
   },
   "file_extension": ".py",
   "mimetype": "text/x-python",
   "name": "python",
   "nbconvert_exporter": "python",
   "pygments_lexer": "ipython3",
   "version": "3.9.13"
  }
 },
 "nbformat": 4,
 "nbformat_minor": 5
}
